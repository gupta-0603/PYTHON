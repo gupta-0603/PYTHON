{
 "cells": [
  {
   "cell_type": "code",
   "execution_count": 6,
   "id": "e3b13609-9211-4480-a41c-781a1382e132",
   "metadata": {},
   "outputs": [],
   "source": [
    "import numpy as np"
   ]
  },
  {
   "cell_type": "code",
   "execution_count": 8,
   "id": "19d12345-d00f-4888-8b5f-80accda69dce",
   "metadata": {},
   "outputs": [],
   "source": [
    "myarr=np.array([3,6,32,7])"
   ]
  },
  {
   "cell_type": "code",
   "execution_count": 9,
   "id": "73824349-d5e3-49ce-85d5-78e770fc1f0a",
   "metadata": {},
   "outputs": [
    {
     "data": {
      "text/plain": [
       "array([ 3,  6, 32,  7])"
      ]
     },
     "execution_count": 9,
     "metadata": {},
     "output_type": "execute_result"
    }
   ],
   "source": [
    "myarr"
   ]
  },
  {
   "cell_type": "code",
   "execution_count": 12,
   "id": "ad740065-232f-41d5-aaa6-2a41485acfba",
   "metadata": {},
   "outputs": [],
   "source": [
    "listarray=np.array([[1,2,3],[5,8,5],[0,3,1]]) "
   ]
  },
  {
   "cell_type": "code",
   "execution_count": 13,
   "id": "d4c77637-e57f-42b6-9422-88663687f664",
   "metadata": {},
   "outputs": [
    {
     "data": {
      "text/plain": [
       "array([[1, 2, 3],\n",
       "       [5, 8, 5],\n",
       "       [0, 3, 1]])"
      ]
     },
     "execution_count": 13,
     "metadata": {},
     "output_type": "execute_result"
    }
   ],
   "source": [
    "listarray"
   ]
  },
  {
   "cell_type": "code",
   "execution_count": 14,
   "id": "f9888d2a-2b1f-4954-9d2d-e51237e888f6",
   "metadata": {},
   "outputs": [],
   "source": [
    "zeros=np.zeros((2,5))"
   ]
  },
  {
   "cell_type": "code",
   "execution_count": 15,
   "id": "d0e03243-9733-4197-9e4b-6ec7312b7341",
   "metadata": {},
   "outputs": [
    {
     "data": {
      "text/plain": [
       "array([[0., 0., 0., 0., 0.],\n",
       "       [0., 0., 0., 0., 0.]])"
      ]
     },
     "execution_count": 15,
     "metadata": {},
     "output_type": "execute_result"
    }
   ],
   "source": [
    "zeros"
   ]
  },
  {
   "cell_type": "code",
   "execution_count": 17,
   "id": "14ca45c4-f630-48f7-855d-0998468bdf1a",
   "metadata": {},
   "outputs": [],
   "source": [
    "rng=np.arange(15)"
   ]
  },
  {
   "cell_type": "code",
   "execution_count": 18,
   "id": "5d9a2c78-187a-4583-84ad-f4b1a757f03b",
   "metadata": {},
   "outputs": [
    {
     "data": {
      "text/plain": [
       "array([ 0,  1,  2,  3,  4,  5,  6,  7,  8,  9, 10, 11, 12, 13, 14])"
      ]
     },
     "execution_count": 18,
     "metadata": {},
     "output_type": "execute_result"
    }
   ],
   "source": [
    "rng"
   ]
  },
  {
   "cell_type": "code",
   "execution_count": 19,
   "id": "1c409aab-2d73-460c-969a-13df41e3d754",
   "metadata": {},
   "outputs": [],
   "source": [
    "lspace=np.linspace(1,4,5)"
   ]
  },
  {
   "cell_type": "code",
   "execution_count": 20,
   "id": "dbbbe7d2-3e58-4e5d-ace5-1d54c7319f48",
   "metadata": {},
   "outputs": [
    {
     "data": {
      "text/plain": [
       "array([1.  , 1.75, 2.5 , 3.25, 4.  ])"
      ]
     },
     "execution_count": 20,
     "metadata": {},
     "output_type": "execute_result"
    }
   ],
   "source": [
    "lspace"
   ]
  },
  {
   "cell_type": "code",
   "execution_count": 21,
   "id": "519c7a6b-43f9-4403-93ab-f432efea9878",
   "metadata": {},
   "outputs": [],
   "source": [
    "emp=np.empty((4,6))"
   ]
  },
  {
   "cell_type": "code",
   "execution_count": 22,
   "id": "e00a0c86-6133-4e96-9a0b-44fdc7e2e319",
   "metadata": {},
   "outputs": [
    {
     "data": {
      "text/plain": [
       "array([[4.67296746e-307, 1.69121096e-306, 1.11260483e-306,\n",
       "        4.45055939e-308, 7.56599128e-307, 1.42413555e-306],\n",
       "       [1.78019082e-306, 1.37960147e-306, 1.33511562e-306,\n",
       "        2.22518251e-306, 1.33511969e-306, 1.78022342e-306],\n",
       "       [1.05700345e-307, 1.69118108e-306, 8.06632139e-308,\n",
       "        1.20160711e-306, 1.69119330e-306, 1.24611402e-306],\n",
       "       [1.33512173e-306, 1.11261570e-306, 8.90092016e-307,\n",
       "        1.37961302e-306, 2.22522868e-306, 2.56765117e-312]])"
      ]
     },
     "execution_count": 22,
     "metadata": {},
     "output_type": "execute_result"
    }
   ],
   "source": [
    "emp"
   ]
  },
  {
   "cell_type": "code",
   "execution_count": 25,
   "id": "59a5bc73-775c-4832-8c85-c8c127d4a971",
   "metadata": {},
   "outputs": [],
   "source": [
    "matrix=np.identity(3)\n"
   ]
  },
  {
   "cell_type": "code",
   "execution_count": 26,
   "id": "01a03e3c-5f05-4791-883b-a7eac9d489ba",
   "metadata": {},
   "outputs": [
    {
     "data": {
      "text/plain": [
       "array([[1., 0., 0.],\n",
       "       [0., 1., 0.],\n",
       "       [0., 0., 1.]])"
      ]
     },
     "execution_count": 26,
     "metadata": {},
     "output_type": "execute_result"
    }
   ],
   "source": [
    "matrix"
   ]
  },
  {
   "cell_type": "code",
   "execution_count": 27,
   "id": "ad8c3f86-9c75-4f8b-b56d-0fe355c2de56",
   "metadata": {},
   "outputs": [],
   "source": [
    "x=[[1,2,3],[4,5,6],[7,1,0]]"
   ]
  },
  {
   "cell_type": "code",
   "execution_count": 28,
   "id": "de172c86-281f-403e-9fec-d7088b59daea",
   "metadata": {},
   "outputs": [],
   "source": [
    "ar=np.array(x)"
   ]
  },
  {
   "cell_type": "code",
   "execution_count": 29,
   "id": "f22e8d81-58b1-4832-a81e-b019dc6d2af6",
   "metadata": {},
   "outputs": [
    {
     "data": {
      "text/plain": [
       "array([[1, 2, 3],\n",
       "       [4, 5, 6],\n",
       "       [7, 1, 0]])"
      ]
     },
     "execution_count": 29,
     "metadata": {},
     "output_type": "execute_result"
    }
   ],
   "source": [
    "ar"
   ]
  },
  {
   "cell_type": "code",
   "execution_count": 30,
   "id": "61cb4db8-160c-4f31-a90f-251a7aad3e77",
   "metadata": {},
   "outputs": [
    {
     "data": {
      "text/plain": [
       "29"
      ]
     },
     "execution_count": 30,
     "metadata": {},
     "output_type": "execute_result"
    }
   ],
   "source": [
    "ar.sum()"
   ]
  },
  {
   "cell_type": "code",
   "execution_count": 31,
   "id": "e0b69e6e-bad6-45bc-afab-c9a02b354fa9",
   "metadata": {},
   "outputs": [
    {
     "data": {
      "text/plain": [
       "array([[1, 4, 7],\n",
       "       [2, 5, 1],\n",
       "       [3, 6, 0]])"
      ]
     },
     "execution_count": 31,
     "metadata": {},
     "output_type": "execute_result"
    }
   ],
   "source": [
    "ar.T\n"
   ]
  },
  {
   "cell_type": "code",
   "execution_count": 32,
   "id": "be74651c-ab5b-4f08-ac9e-a4f4fa7c51a4",
   "metadata": {},
   "outputs": [
    {
     "data": {
      "text/plain": [
       "<numpy.flatiter at 0x27b1ddcc310>"
      ]
     },
     "execution_count": 32,
     "metadata": {},
     "output_type": "execute_result"
    }
   ],
   "source": [
    "ar.flat"
   ]
  },
  {
   "cell_type": "code",
   "execution_count": 33,
   "id": "c8b08281-d4e4-4b58-8c1a-6136d1f99a74",
   "metadata": {},
   "outputs": [
    {
     "data": {
      "text/plain": [
       "2"
      ]
     },
     "execution_count": 33,
     "metadata": {},
     "output_type": "execute_result"
    }
   ],
   "source": [
    "ar.ndim"
   ]
  },
  {
   "cell_type": "code",
   "execution_count": 34,
   "id": "eabfebbd-98d7-44e1-8d9c-7ee4ee870a89",
   "metadata": {},
   "outputs": [
    {
     "data": {
      "text/plain": [
       "9"
      ]
     },
     "execution_count": 34,
     "metadata": {},
     "output_type": "execute_result"
    }
   ],
   "source": [
    "ar.size"
   ]
  },
  {
   "cell_type": "code",
   "execution_count": 35,
   "id": "3dbebfc4-323f-489b-a598-0b8da76892d7",
   "metadata": {},
   "outputs": [
    {
     "data": {
      "text/plain": [
       "6"
      ]
     },
     "execution_count": 35,
     "metadata": {},
     "output_type": "execute_result"
    }
   ],
   "source": [
    "ar.argmax()"
   ]
  },
  {
   "cell_type": "code",
   "execution_count": 36,
   "id": "d56b9a9d-e0f7-4489-8c41-c4144c629f69",
   "metadata": {},
   "outputs": [
    {
     "data": {
      "text/plain": [
       "array([[1, 2, 3],\n",
       "       [4, 5, 6],\n",
       "       [7, 1, 0]])"
      ]
     },
     "execution_count": 36,
     "metadata": {},
     "output_type": "execute_result"
    }
   ],
   "source": [
    "ar"
   ]
  },
  {
   "cell_type": "code",
   "execution_count": 37,
   "id": "6fe8e09c-bb47-41ef-bb95-aece1223c725",
   "metadata": {},
   "outputs": [],
   "source": [
    "ar1=[[1,2,3],[4,5,6],[7,1,0]]"
   ]
  },
  {
   "cell_type": "code",
   "execution_count": 38,
   "id": "097f7963-982b-4434-a75e-31d60784b0f5",
   "metadata": {},
   "outputs": [
    {
     "data": {
      "text/plain": [
       "array([[ 2,  4,  6],\n",
       "       [ 8, 10, 12],\n",
       "       [14,  2,  0]])"
      ]
     },
     "execution_count": 38,
     "metadata": {},
     "output_type": "execute_result"
    }
   ],
   "source": [
    "ar+ar1"
   ]
  },
  {
   "cell_type": "code",
   "execution_count": 39,
   "id": "39f6ed65-aa75-44d0-aa95-f2bd20ad29bc",
   "metadata": {},
   "outputs": [
    {
     "data": {
      "text/plain": [
       "array([[ 1,  4,  9],\n",
       "       [16, 25, 36],\n",
       "       [49,  1,  0]])"
      ]
     },
     "execution_count": 39,
     "metadata": {},
     "output_type": "execute_result"
    }
   ],
   "source": [
    "ar*ar1"
   ]
  },
  {
   "cell_type": "code",
   "execution_count": 40,
   "id": "2d271fed-b5ff-4935-ac52-e34221bdd361",
   "metadata": {},
   "outputs": [],
   "source": [
    "import sys"
   ]
  },
  {
   "cell_type": "code",
   "execution_count": 41,
   "id": "7ec74ceb-a819-4f5b-a32d-19a6e8338f6d",
   "metadata": {},
   "outputs": [],
   "source": [
    "ch_ar=[0,4,55,2]"
   ]
  },
  {
   "cell_type": "code",
   "execution_count": 42,
   "id": "ad4c214d-8b11-4c4a-8828-3fa4952bf0c4",
   "metadata": {},
   "outputs": [],
   "source": [
    "py_ar=[0,4,55,2]"
   ]
  },
  {
   "cell_type": "code",
   "execution_count": 43,
   "id": "ed00fc19-377c-4062-a216-2c584b6cef9d",
   "metadata": {},
   "outputs": [],
   "source": [
    "np_ar=np.array(py_ar)"
   ]
  },
  {
   "cell_type": "code",
   "execution_count": 44,
   "id": "518d1f76-e99a-405e-a9e3-1286fff62eee",
   "metadata": {},
   "outputs": [
    {
     "data": {
      "text/plain": [
       "28"
      ]
     },
     "execution_count": 44,
     "metadata": {},
     "output_type": "execute_result"
    }
   ],
   "source": [
    "sys.getsizeof(1)"
   ]
  },
  {
   "cell_type": "code",
   "execution_count": 45,
   "id": "bc8cdce5-8749-4867-8d03-70fc6fe5e4c8",
   "metadata": {},
   "outputs": [
    {
     "data": {
      "text/plain": [
       "4"
      ]
     },
     "execution_count": 45,
     "metadata": {},
     "output_type": "execute_result"
    }
   ],
   "source": [
    "np_ar.itemsize "
   ]
  },
  {
   "cell_type": "code",
   "execution_count": null,
   "id": "93fa409a-b6b5-4a45-a621-5fb7278f67c2",
   "metadata": {},
   "outputs": [],
   "source": []
  }
 ],
 "metadata": {
  "kernelspec": {
   "display_name": "Python 3 (ipykernel)",
   "language": "python",
   "name": "python3"
  },
  "language_info": {
   "codemirror_mode": {
    "name": "ipython",
    "version": 3
   },
   "file_extension": ".py",
   "mimetype": "text/x-python",
   "name": "python",
   "nbconvert_exporter": "python",
   "pygments_lexer": "ipython3",
   "version": "3.12.4"
  }
 },
 "nbformat": 4,
 "nbformat_minor": 5
}
