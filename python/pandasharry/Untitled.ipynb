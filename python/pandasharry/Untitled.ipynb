{
 "cells": [
  {
   "cell_type": "code",
   "execution_count": 1,
   "id": "f980dc9e-f6e4-4e20-b2fe-5cd8c65c08da",
   "metadata": {},
   "outputs": [],
   "source": [
    "import numpy as np\n",
    "import pandas as pd"
   ]
  },
  {
   "cell_type": "code",
   "execution_count": null,
   "id": "fec281ef-b442-44d0-a955-e2ccb89bfd2b",
   "metadata": {},
   "outputs": [],
   "source": [
    "dict1={\n",
    "    \"name\":['harry' , 'rohan','skillf','shubh'],\n",
    "    \"marks\":[12,34,24,13],\n",
    "    \"city\":['rampur','kolkata','barelley','antarcita']\n",
    "}"
   ]
  },
  {
   "cell_type": "code",
   "execution_count": null,
   "id": "304b0ebc-a375-4c8b-a6a4-780d40df5915",
   "metadata": {},
   "outputs": [],
   "source": [
    "dict1={\n",
    "    \"name\":['harry' , 'rohan','skillf','shubh'],\n",
    "    \"marks\":[12,34,24,13],\n",
    "    \"city\":['rampur','kolkata','barelley','antarcita']\n",
    "}"
   ]
  },
  {
   "cell_type": "code",
   "execution_count": null,
   "id": "d2bafc6e-5588-4863-9716-8a032419f869",
   "metadata": {},
   "outputs": [],
   "source": []
  }
 ],
 "metadata": {
  "kernelspec": {
   "display_name": "Python 3 (ipykernel)",
   "language": "python",
   "name": "python3"
  },
  "language_info": {
   "codemirror_mode": {
    "name": "ipython",
    "version": 3
   },
   "file_extension": ".py",
   "mimetype": "text/x-python",
   "name": "python",
   "nbconvert_exporter": "python",
   "pygments_lexer": "ipython3",
   "version": "3.12.4"
  }
 },
 "nbformat": 4,
 "nbformat_minor": 5
}
